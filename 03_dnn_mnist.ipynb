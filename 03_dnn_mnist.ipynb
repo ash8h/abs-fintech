{
 "cells": [
  {
   "cell_type": "code",
   "execution_count": 11,
   "metadata": {},
   "outputs": [
    {
     "name": "stderr",
     "output_type": "stream",
     "text": [
      "Using TensorFlow backend.\n"
     ]
    }
   ],
   "source": [
    "import numpy as np\n",
    "from keras.models import Sequential\n",
    "from keras.layers.core import Dense, Activation\n",
    "from keras.optimizers import SGD\n",
    "from sklearn import datasets\n",
    "from sklearn.model_selection import train_test_split\n",
    "\n",
    "### データセット読込\n",
    "mnist = datasets.fetch_mldata('MNIST original', data_home='.')\n",
    "\n",
    "n = len(mnist.data)\n",
    "N = 10000  #  MNISTのデータの一部を使用\n",
    "indices = np.random.permutation(range(n))[:N]  # ランダムにN枚を選択\n",
    "X = mnist.data[indices]\n",
    "y = mnist.target[indices]\n",
    "Y = np.eye(10)[y.astype(int)]   # 1-of-K表現に変換\n",
    "\n",
    "X_train, X_test, Y_train, Y_test = train_test_split(X, Y, train_size=0.8)"
   ]
  },
  {
   "cell_type": "code",
   "execution_count": 41,
   "metadata": {},
   "outputs": [],
   "source": [
    "### モデル作成\n",
    "def build_model(activate_function=\"sigmoid\", n_hidden=200, n_hidden_layer=1):\n",
    "    n_in = len(X[0])\n",
    "    n_out = len(Y[0])\n",
    "\n",
    "    model = Sequential()\n",
    "\n",
    "    for i in range(n_hidden_layer):\n",
    "        model.add(Dense(n_hidden, input_dim=n_in))\n",
    "        model.add(Activation(activate_function))\n",
    "\n",
    "    model.add(Dense(n_out))\n",
    "    model.add(Activation(\"softmax\"))\n",
    "\n",
    "    model.compile(loss='categorical_crossentropy', optimizer=SGD(lr=0.01), metrics=['accuracy'])\n",
    "    \n",
    "    return model"
   ]
  },
  {
   "cell_type": "code",
   "execution_count": 42,
   "metadata": {},
   "outputs": [
    {
     "name": "stdout",
     "output_type": "stream",
     "text": [
      "CPU times: user 1min 8s, sys: 5.01 s, total: 1min 13s\n",
      "Wall time: 29.9 s\n",
      "1952/2000 [============================>.] - ETA: 0sCPU times: user 220 ms, sys: 14.7 ms, total: 234 ms\n",
      "Wall time: 186 ms\n",
      "[0.30216045761108401, 0.90049999999999997]\n"
     ]
    }
   ],
   "source": [
    "model_sigmoid = build_model(\"sigmoid\", n_hidden_layer=1)\n",
    "\n",
    "### 学習\n",
    "epochs = 100\n",
    "batch_size = 100\n",
    "%time model_sigmoid.fit(X_train, Y_train, epochs=epochs, batch_size=batch_size, verbose=0)\n",
    "\n",
    "### 精度評価\n",
    "%time loss_and_metrics = model_sigmoid.evaluate(X_test, Y_test)\n",
    "print(loss_and_metrics)\n"
   ]
  },
  {
   "cell_type": "code",
   "execution_count": 39,
   "metadata": {},
   "outputs": [
    {
     "name": "stdout",
     "output_type": "stream",
     "text": [
      "CPU times: user 1min 7s, sys: 4.98 s, total: 1min 12s\n",
      "Wall time: 29.7 s\n",
      "1248/2000 [=================>............] - ETA: 0sCPU times: user 203 ms, sys: 11.9 ms, total: 215 ms\n",
      "Wall time: 159 ms\n",
      "[0.2135076404362917, 0.93149999999999999]\n"
     ]
    }
   ],
   "source": [
    "### activation関数としてtanhを試す\n",
    "model_tanh = build_model(\"tanh\", n_hidden_layer=1)\n",
    "%time model_tanh.fit(X_train, Y_train, epochs=epochs, batch_size=batch_size, verbose=0)\n",
    "\n",
    "%time loss_and_metrics = model_tanh.evaluate(X_test, Y_test)\n",
    "print(loss_and_metrics)"
   ]
  },
  {
   "cell_type": "code",
   "execution_count": 40,
   "metadata": {},
   "outputs": [
    {
     "name": "stdout",
     "output_type": "stream",
     "text": [
      "CPU times: user 1min 7s, sys: 5.11 s, total: 1min 12s\n",
      "Wall time: 29.8 s\n",
      "1152/2000 [================>.............] - ETA: 0sCPU times: user 206 ms, sys: 15.5 ms, total: 221 ms\n",
      "Wall time: 173 ms\n",
      "[11.476084014892578, 0.28799999999999998]\n"
     ]
    }
   ],
   "source": [
    "### activation関数としてReLU を試す\n",
    "model_relu= build_model(\"relu\", n_hidden_layer=1)\n",
    "%time model_relu.fit(X_train, Y_train, epochs=epochs, batch_size=batch_size, verbose=0)\n",
    "\n",
    "%time loss_and_metrics = model_relu.evaluate(X_test, Y_test)\n",
    "print(loss_and_metrics)"
   ]
  },
  {
   "cell_type": "code",
   "execution_count": null,
   "metadata": {
    "collapsed": true
   },
   "outputs": [],
   "source": []
  }
 ],
 "metadata": {
  "kernelspec": {
   "display_name": "Python 3",
   "language": "python",
   "name": "python3"
  },
  "language_info": {
   "codemirror_mode": {
    "name": "ipython",
    "version": 3
   },
   "file_extension": ".py",
   "mimetype": "text/x-python",
   "name": "python",
   "nbconvert_exporter": "python",
   "pygments_lexer": "ipython3",
   "version": "3.6.0"
  }
 },
 "nbformat": 4,
 "nbformat_minor": 2
}
